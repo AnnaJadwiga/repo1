{
 "cells": [
  {
   "cell_type": "code",
   "execution_count": 1,
   "id": "0aea25f4",
   "metadata": {},
   "outputs": [],
   "source": [
    "class student:\n",
    "    def __init__(self, kierunek, nr_indeksu, zgromadzone_ects, nieobecnosci, status):\n",
    "        self.kierunek = kierunek\n",
    "        self.nr_indeksu = nr_indeksu\n",
    "        self.zgromadzone_ects = zgromadzone_ects\n",
    "        self.nioebecnosci = nieobecnosci\n",
    "        self.status = status\n",
    "    \n",
    "    def zmien_kierunek(self, kierunek):\n",
    "        self.kierunek = kierunek \n",
    "        \n",
    "    def wpisz_nieobecnosc(self, liczba_nieobecnosci):\n",
    "        self.nieobecnosci = self.nieobecnosci + liczba_nieobecnosci\n",
    "        \n",
    "    def zawies(self):\n",
    "        self.status = \"nieaktywny\"\n",
    "        \n",
    "    def odwies(self):\n",
    "        self.status = \"aktywny\"\n",
    "        \n",
    "        "
   ]
  },
  {
   "cell_type": "code",
   "execution_count": 2,
   "id": "d60f51b7",
   "metadata": {},
   "outputs": [],
   "source": [
    "s1 = student(\"ZBIK\", 305416, 90, 20, \"aktywny\")"
   ]
  },
  {
   "cell_type": "code",
   "execution_count": 3,
   "id": "391cb989",
   "metadata": {},
   "outputs": [
    {
     "data": {
      "text/plain": [
       "'ZBIK'"
      ]
     },
     "execution_count": 3,
     "metadata": {},
     "output_type": "execute_result"
    }
   ],
   "source": [
    "s1.kierunek"
   ]
  },
  {
   "cell_type": "code",
   "execution_count": 6,
   "id": "ac3992bb",
   "metadata": {},
   "outputs": [],
   "source": [
    "s1.zawies()"
   ]
  },
  {
   "cell_type": "code",
   "execution_count": null,
   "id": "9f336451",
   "metadata": {},
   "outputs": [],
   "source": []
  },
  {
   "cell_type": "code",
   "execution_count": 7,
   "id": "74079dbb",
   "metadata": {},
   "outputs": [],
   "source": [
    "s1.odwies()"
   ]
  },
  {
   "cell_type": "code",
   "execution_count": 10,
   "id": "67533b89",
   "metadata": {},
   "outputs": [
    {
     "data": {
      "text/plain": [
       "'aktywny'"
      ]
     },
     "execution_count": 10,
     "metadata": {},
     "output_type": "execute_result"
    }
   ],
   "source": [
    "s1.status"
   ]
  },
  {
   "cell_type": "code",
   "execution_count": 16,
   "id": "febe231a",
   "metadata": {},
   "outputs": [
    {
     "data": {
      "text/plain": [
       "'aktywny'"
      ]
     },
     "execution_count": 16,
     "metadata": {},
     "output_type": "execute_result"
    }
   ],
   "source": [
    "s1.status"
   ]
  },
  {
   "cell_type": "code",
   "execution_count": null,
   "id": "f07bcea0",
   "metadata": {},
   "outputs": [],
   "source": []
  }
 ],
 "metadata": {
  "kernelspec": {
   "display_name": "Python 3",
   "language": "python",
   "name": "python3"
  },
  "language_info": {
   "codemirror_mode": {
    "name": "ipython",
    "version": 3
   },
   "file_extension": ".py",
   "mimetype": "text/x-python",
   "name": "python",
   "nbconvert_exporter": "python",
   "pygments_lexer": "ipython3",
   "version": "3.8.8"
  }
 },
 "nbformat": 4,
 "nbformat_minor": 5
}
